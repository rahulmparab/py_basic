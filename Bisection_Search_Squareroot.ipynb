{
 "cells": [
  {
   "cell_type": "code",
   "execution_count": 8,
   "metadata": {},
   "outputs": [
    {
     "name": "stdout",
     "output_type": "stream",
     "text": [
      "enter the value to find square root:  4\n",
      "high=  4.0 low=  0.0 epsilon=  1e-10 ans=  2.0 counter=  0\n",
      "high=  2.0 low=  0.0 epsilon=  1e-10 ans=  1.0 counter=  1\n",
      "high=  2.0 low=  1.0 epsilon=  1e-10 ans=  1.5 counter=  2\n",
      "high=  2.0 low=  1.5 epsilon=  1e-10 ans=  1.75 counter=  3\n",
      "high=  2.0 low=  1.75 epsilon=  1e-10 ans=  1.875 counter=  4\n",
      "high=  2.0 low=  1.875 epsilon=  1e-10 ans=  1.9375 counter=  5\n",
      "high=  2.0 low=  1.9375 epsilon=  1e-10 ans=  1.96875 counter=  6\n",
      "high=  2.0 low=  1.96875 epsilon=  1e-10 ans=  1.984375 counter=  7\n",
      "high=  2.0 low=  1.984375 epsilon=  1e-10 ans=  1.9921875 counter=  8\n",
      "high=  2.0 low=  1.9921875 epsilon=  1e-10 ans=  1.99609375 counter=  9\n",
      "high=  2.0 low=  1.99609375 epsilon=  1e-10 ans=  1.998046875 counter=  10\n",
      "high=  2.0 low=  1.998046875 epsilon=  1e-10 ans=  1.9990234375 counter=  11\n",
      "high=  2.0 low=  1.9990234375 epsilon=  1e-10 ans=  1.99951171875 counter=  12\n",
      "high=  2.0 low=  1.99951171875 epsilon=  1e-10 ans=  1.999755859375 counter=  13\n",
      "high=  2.0 low=  1.999755859375 epsilon=  1e-10 ans=  1.9998779296875 counter=  14\n",
      "high=  2.0 low=  1.9998779296875 epsilon=  1e-10 ans=  1.99993896484375 counter=  15\n",
      "high=  2.0 low=  1.99993896484375 epsilon=  1e-10 ans=  1.999969482421875 counter=  16\n",
      "high=  2.0 low=  1.999969482421875 epsilon=  1e-10 ans=  1.9999847412109375 counter=  17\n",
      "high=  2.0 low=  1.9999847412109375 epsilon=  1e-10 ans=  1.9999923706054688 counter=  18\n",
      "high=  2.0 low=  1.9999923706054688 epsilon=  1e-10 ans=  1.9999961853027344 counter=  19\n",
      "high=  2.0 low=  1.9999961853027344 epsilon=  1e-10 ans=  1.9999980926513672 counter=  20\n",
      "high=  2.0 low=  1.9999980926513672 epsilon=  1e-10 ans=  1.9999990463256836 counter=  21\n",
      "high=  2.0 low=  1.9999990463256836 epsilon=  1e-10 ans=  1.9999995231628418 counter=  22\n",
      "high=  2.0 low=  1.9999995231628418 epsilon=  1e-10 ans=  1.999999761581421 counter=  23\n",
      "high=  2.0 low=  1.999999761581421 epsilon=  1e-10 ans=  1.9999998807907104 counter=  24\n",
      "high=  2.0 low=  1.9999998807907104 epsilon=  1e-10 ans=  1.9999999403953552 counter=  25\n",
      "high=  2.0 low=  1.9999999403953552 epsilon=  1e-10 ans=  1.9999999701976776 counter=  26\n",
      "high=  2.0 low=  1.9999999701976776 epsilon=  1e-10 ans=  1.9999999850988388 counter=  27\n",
      "high=  2.0 low=  1.9999999850988388 epsilon=  1e-10 ans=  1.9999999925494194 counter=  28\n",
      "high=  2.0 low=  1.9999999925494194 epsilon=  1e-10 ans=  1.9999999962747097 counter=  29\n",
      "high=  2.0 low=  1.9999999962747097 epsilon=  1e-10 ans=  1.9999999981373549 counter=  30\n",
      "high=  2.0 low=  1.9999999981373549 epsilon=  1e-10 ans=  1.9999999990686774 counter=  31\n",
      "high=  2.0 low=  1.9999999990686774 epsilon=  1e-10 ans=  1.9999999995343387 counter=  32\n",
      "high=  2.0 low=  1.9999999995343387 epsilon=  1e-10 ans=  1.9999999997671694 counter=  33\n",
      "high=  2.0 low=  1.9999999997671694 epsilon=  1e-10 ans=  1.9999999998835847 counter=  34\n"
     ]
    }
   ],
   "source": [
    "# Bisection Search \n",
    "\n",
    "user_in = float(input(\"enter the value to find square root:  \"))\n",
    "\n",
    "# initialzing variables\n",
    "low = 0.0\n",
    "high = user_in\n",
    "epsilon = 0.0000000001\n",
    "counter = 0 \n",
    "ans = ( low + high )/2\n",
    "\n",
    "#looping \n",
    "\n",
    "while (high - low >= (2* epsilon)):\n",
    "    print(\"high= \", high, \"low= \", low, \"epsilon= \",epsilon,  \"ans= \" , ans, \"counter= \", counter)\n",
    "    if ans ** 2 < user_in:\n",
    "        low = ans\n",
    "    else:\n",
    "        high = ans\n",
    "    counter += 1\n",
    "  #  low += epsilon\n",
    "    ans = (low + high)/2\n",
    "    #print(ans)\n"
   ]
  },
  {
   "cell_type": "code",
   "execution_count": null,
   "metadata": {},
   "outputs": [],
   "source": []
  },
  {
   "cell_type": "code",
   "execution_count": null,
   "metadata": {},
   "outputs": [],
   "source": []
  }
 ],
 "metadata": {
  "kernelspec": {
   "display_name": "Python 3",
   "language": "python",
   "name": "python3"
  },
  "language_info": {
   "codemirror_mode": {
    "name": "ipython",
    "version": 3
   },
   "file_extension": ".py",
   "mimetype": "text/x-python",
   "name": "python",
   "nbconvert_exporter": "python",
   "pygments_lexer": "ipython3",
   "version": "3.8.3"
  }
 },
 "nbformat": 4,
 "nbformat_minor": 4
}
