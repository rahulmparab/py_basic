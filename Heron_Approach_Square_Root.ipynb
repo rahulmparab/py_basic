{
 "cells": [
  {
   "cell_type": "code",
   "execution_count": 3,
   "metadata": {},
   "outputs": [
    {
     "name": "stdout",
     "output_type": "stream",
     "text": [
      "enter the number: 82\n",
      "the square root of 82.0 after  1th iteration is 41.5\n",
      "the square root of 82.0 after  2th iteration is 21.737951807228917\n",
      "the square root of 82.0 after  3th iteration is 12.755078162170646\n",
      "the square root of 82.0 after  4th iteration is 9.591945098729253\n",
      "the square root of 82.0 after  5th iteration is 9.070392344097574\n",
      "the square root of 82.0 after  6th iteration is 9.055397553048602\n",
      "the square root of 82.0 after  7th iteration is 9.055385138145926\n"
     ]
    }
   ],
   "source": [
    "# Heron's Approach to find a square root \n",
    "# https://www.blogger.com/blog/post/edit/240041520184408713/5590348055472094479\n",
    "\n",
    "u_input = float(input(\"enter the number: \"))\n",
    "vvs_sm_nbr = 0.0000001\n",
    "cl_sq_root = 1.000\n",
    "counter = 0\n",
    "\n",
    "while abs((u_input/cl_sq_root) - cl_sq_root) > vvs_sm_nbr:\n",
    "    cl_sq_root = (1/2)* (u_input/cl_sq_root + cl_sq_root )\n",
    "    counter +=1\n",
    "    print(f\"the square root of {u_input} after  {counter}th iteration is {cl_sq_root}\")\n",
    "    \n"
   ]
  },
  {
   "cell_type": "code",
   "execution_count": null,
   "metadata": {},
   "outputs": [],
   "source": []
  },
  {
   "cell_type": "code",
   "execution_count": null,
   "metadata": {},
   "outputs": [],
   "source": []
  }
 ],
 "metadata": {
  "kernelspec": {
   "display_name": "Python 3",
   "language": "python",
   "name": "python3"
  },
  "language_info": {
   "codemirror_mode": {
    "name": "ipython",
    "version": 3
   },
   "file_extension": ".py",
   "mimetype": "text/x-python",
   "name": "python",
   "nbconvert_exporter": "python",
   "pygments_lexer": "ipython3",
   "version": "3.8.3"
  }
 },
 "nbformat": 4,
 "nbformat_minor": 4
}
